{
  "cells": [
    {
      "cell_type": "markdown",
      "id": "7b030395-ff9d-488b-893a-3f2925d07a29",
      "metadata": {},
      "source": [
        "# BEE 4750 Lab 1: Julia and GitHub Basics\n",
        "\n",
        "**Name**:\n",
        "\n",
        "**ID**:\n",
        "\n",
        "> **Due Date**\n",
        ">\n",
        "> Wednesday, 8/28/24, 9:00pm\n",
        "\n",
        "## Setup\n",
        "\n",
        "The following code should go at the top of most Julia scripts; it will\n",
        "load the local package environment and install any needed packages. You\n",
        "will see this often and shouldn’t need to touch it."
      ]
    },
    {
      "cell_type": "code",
      "execution_count": 26,
      "id": "2",
      "metadata": {},
      "outputs": [
        {
          "name": "stderr",
          "output_type": "stream",
          "text": [
            "\u001b[32m\u001b[1m  Activating\u001b[22m\u001b[39m project at `~/Desktop/BEE 4750/Labs/lab-1-Davivivivivid`\n"
          ]
        }
      ],
      "source": [
        "import Pkg\n",
        "Pkg.activate(\".\")\n",
        "Pkg.instantiate()"
      ]
    },
    {
      "cell_type": "markdown",
      "id": "b0c0f53b-93bc-4baa-8b0e-bdb58e8ff961",
      "metadata": {},
      "source": [
        "This next cell loads packages which are required for the rest of the\n",
        "code evaluation. In this case, we only need to load the `Plots.jl`\n",
        "plotting package, but you will see others over the course of the\n",
        "semester (and can add more if desired; just make sure that you’ve [added\n",
        "the new packages to the\n",
        "environment](https://viveks.me/environmental-systems-analysis/tutorials/julia-basics.html#package-management)).\n",
        "Standard Julia practice is to load all of the needed packages at the top\n",
        "of the file.\n",
        "\n",
        "> **Warning**\n",
        ">\n",
        "> Loading packages can take a while, especially the first time! Julia\n",
        "> tries to precompile all of the packages you’re using so repeat use is\n",
        "> faster, but this can be quite slow at first."
      ]
    },
    {
      "cell_type": "code",
      "execution_count": 27,
      "id": "4",
      "metadata": {},
      "outputs": [],
      "source": [
        "using Plots"
      ]
    },
    {
      "cell_type": "markdown",
      "id": "6d2bc421-d992-4864-a390-fd6d7820f6c0",
      "metadata": {},
      "source": [
        "## Introduction\n",
        "\n",
        "### Julia\n",
        "\n",
        "Julia is an up-and-coming language, originally developed for scientific\n",
        "programming. While learning a new programming language always has its\n",
        "hiccups, the good news is that if you’ve programmed in a high-level\n",
        "language such as Python or MATLAB, most Julia concepts should look\n",
        "familiar.\n",
        "\n",
        "If you have not successfully set up Julia, follow the instructions in\n",
        "[Tools\n",
        "Setup](https://viveks.me/environmental-systems-analysis/setup.html)\n",
        "and/or ask for help.\n",
        "\n",
        "You can use other editors for this course, but our recommendation is\n",
        "[Visual Studio Code](https://code.visualstudio.com/) with the [Julia\n",
        "extension](https://marketplace.visualstudio.com/items?itemName=julialang.language-julia),\n",
        "which will make life a *lot* simpler! You should have set this up by\n",
        "following the [Tools\n",
        "Setup](https://viveks.me/environmental-systems-analysis/setup.html)\n",
        "instructions, but if not, do so now and/or ask for help.\n",
        "\n",
        "### Jupyter Notebooks\n",
        "\n",
        "Jupyter notebooks integrate text and equations in Markdown with Julia\n",
        "(or Python, or R) code. To do this, Jupyter notebooks consist of two\n",
        "types of “cells”: code cells and Markdown (text) cells.\n",
        "\n",
        "Click once on this section of text. A box will appear around this text\n",
        "(and some areas above/below it) - all of that is within this cell.\n",
        "\n",
        "Markdown is a text markup framework for formatting language that makes\n",
        "things look pretty when viewed across different platforms: web browsers,\n",
        "notebooks, and so forth. Text written in Markdown can also include\n",
        "hyperlinks, LaTeX equations, section headers, and images, among other\n",
        "features (most of [the course\n",
        "website](https://viveks.me/climate-risk-analysis) and the lecture notes\n",
        "were all written in Markdown!). [Here is a basic Markdown cheat\n",
        "sheet](https://www.markdownguide.org/cheat-sheet/).\n",
        "\n",
        "What you are looking at right now is the formatted text after the\n",
        "Markdown is processed. To see the raw Markdown, do one of:\n",
        "\n",
        "-   press `Enter` while that cell is selected, or\n",
        "-   double-click on that cell.\n",
        "\n",
        "------------------------------------------------------------------------\n",
        "\n",
        "A couple of the features you will see in this Markdown cell:\n",
        "\n",
        "-   The `---` command creates a horizontal line. This is also nice for\n",
        "    separating sections.\n",
        "-   Backticks (`` `...` ``) can be used to format and highlight code,\n",
        "    keystrokes, etc.\n",
        "-   The `#` sign is used to create a new section header; two `#` signs\n",
        "    (`##`) is used to create a new subsection header; `###` creates a\n",
        "    subsubsection, and so on.\n",
        "-   You can create a bulleted list by using the asterisk `*` or a dash\n",
        "    `-` and a space.\n",
        "-   You can create regular text by just typing as usual.\n",
        "-   You can create **bold-faced text** by wrapping it with two asterisks\n",
        "    on both sides.\n",
        "-   You can create *italicized text* by wrapping it with a single\n",
        "    asterisk on both sides.\n",
        "-   To create a new paragraph, you must include a blank line between the\n",
        "    old and new paragraphs.\n",
        "\n",
        "At this point you might be wondering how to turn this cell back into the\n",
        "fully formatted Markdown text instead of the raw Markdown you’re\n",
        "probably still looking at. You have a couple of options, depending on\n",
        "your platform, but the most consistent is to type `Shift + Enter` to\n",
        "**execute** the cell (this is also how to run code, but more on that\n",
        "later).\n",
        "\n",
        "Additionally, you will frequently need to create new cells in your\n",
        "Jupyter notebooks. How you do this will depend on how you interact with\n",
        "the notebook, but try to figure this out now.\n",
        "\n",
        "One tip is to think carefully about what bits of code should be in the\n",
        "same cell, as you typically only see output from the last command in a\n",
        "cell. For example, compare the following:"
      ]
    },
    {
      "cell_type": "code",
      "execution_count": 28,
      "id": "6",
      "metadata": {},
      "outputs": [
        {
          "data": {
            "text/plain": [
              "-0.9589242746631385"
            ]
          },
          "metadata": {},
          "output_type": "display_data"
        }
      ],
      "source": [
        "x = 5\n",
        "sin(x)"
      ]
    },
    {
      "cell_type": "markdown",
      "id": "0b56a2f1-81e8-4426-b62a-95cfc3933b92",
      "metadata": {},
      "source": [
        "with"
      ]
    },
    {
      "cell_type": "code",
      "execution_count": 29,
      "id": "8",
      "metadata": {},
      "outputs": [
        {
          "data": {
            "text/plain": [
              "5"
            ]
          },
          "metadata": {},
          "output_type": "display_data"
        }
      ],
      "source": [
        "x = 5"
      ]
    },
    {
      "cell_type": "code",
      "execution_count": 30,
      "id": "10",
      "metadata": {},
      "outputs": [
        {
          "data": {
            "text/plain": [
              "-0.9589242746631385"
            ]
          },
          "metadata": {},
          "output_type": "display_data"
        }
      ],
      "source": [
        "sin(x)"
      ]
    },
    {
      "cell_type": "markdown",
      "id": "474d541d-93e6-47e1-874f-80abd6c9d7cc",
      "metadata": {},
      "source": [
        "In Julia, you can also suppress the output of a command with a\n",
        "semi-colon:"
      ]
    },
    {
      "cell_type": "code",
      "execution_count": 31,
      "id": "12",
      "metadata": {},
      "outputs": [],
      "source": [
        "sin(x);"
      ]
    },
    {
      "cell_type": "markdown",
      "id": "e5950d08-d04e-4fc7-bed8-33e0ee9a1909",
      "metadata": {},
      "source": [
        "which can help if you want to split some code out for clarity or to\n",
        "insert some text prior to it, but don’t want to clutter the notebook\n",
        "with its output.\n",
        "\n",
        "For code cells, to execute the commands within the cell, we also press\n",
        "`Shift+Enter`.\n",
        "\n",
        "Finally, **make sure that you evaluate all of the code cells in order\n",
        "before submitting**. One bad outcome with notebooks occurs when cells\n",
        "are evaluated out of order, so fixed bugs and edits in previous cells do\n",
        "not get a chance to propagate down. You can do this with the `Run All`\n",
        "command in whichever interface you’re using to edit your notebook.\n",
        "\n",
        "### Julia Basics\n",
        "\n",
        "There are many tutorials and references for Julia, including a [basics\n",
        "overview on the class website](../tutorials/julia-basics.html). Please\n",
        "feel free to reference these as you work through any part of the course.\n",
        "\n",
        "### Formatting Math\n",
        "\n",
        "It will often be helpful to include nicely-formatted mathematics in a\n",
        "notebook. Markdown accomodates this using LaTeX syntax. A LaTeX\n",
        "cheatsheet is available on the class website, and many other guides\n",
        "exist online.\n",
        "\n",
        "Below is an example of a formatted equation: $$x = 5.$$\n",
        "\n",
        "### Looking For Help\n",
        "\n",
        "There is no shame in using Google, or other resources, for help when\n",
        "programming. There are many, many times when you can’t quite get the\n",
        "syntax to work, can’t quite figure out the right package or command to\n",
        "use, or are feeling too lazy or overwhelmed (I’m not judging either of\n",
        "those!) to dig through the documentation. Some good resources include:\n",
        "\n",
        "-   [Stack Overflow](https://stackoverflow.com/) is a treasure trove of\n",
        "    answers;\n",
        "-   The [official Julia forum](https://discourse.julialang.org/) and the\n",
        "    [Julia Subreddit](https://www.reddit.com/r/Julia/) are also very\n",
        "    useful.\n",
        "\n",
        "You are also highly encouraged to post on [Ed\n",
        "Discussion](https://us.edstem.org), though getting a response might be\n",
        "less immediate. Just be mindful that to get good answers, [you have to\n",
        "help people help you](https://stackoverflow.com/help/how-to-ask), and\n",
        "**make sure to give credit to any resources that were helpful**!\n",
        "\n",
        "## Exercises (3 points)\n",
        "\n",
        "Use your understanding of Julia syntax and the GitHub workflow to\n",
        "complete the following (hopefully short) exercises. Convert your\n",
        "completed lab assignment to a PDF and submit it to the Gradescope\n",
        "Assignment “Lab 1”.\n",
        "\n",
        "**Remember to**:\n",
        "\n",
        "-   Include a (succint but clear) writeup of the core idea underlying\n",
        "    your code, through some combination of equations, text, and\n",
        "    algorithms. As you are not required to submit your code, we will not\n",
        "    be looking at it in detail, and instead will rely on those writeups\n",
        "    to assess whether your approach is correct.\n",
        "-   If using the notebook, evaluate all of your code cells, in order\n",
        "    (using a `Run All` command). This will make sure all output is\n",
        "    visible and that the code cells were evaluated in the correct order.\n",
        "-   Tag each of the problems when you submit to Gradescope; a 10%\n",
        "    penalty will be deducted if this is not done.\n",
        "\n",
        "### Computing a Dot Product\n",
        "\n",
        "Given two numeric arrays `x` and `y`, write a function to compute their\n",
        "dot product if they have equal length, and return an error if not (this\n",
        "is useful for debugging!). Use the following code as a starting point."
      ]
    },
    {
      "cell_type": "code",
      "execution_count": 32,
      "id": "14",
      "metadata": {},
      "outputs": [
        {
          "data": {
            "text/plain": [
              "dot_product (generic function with 1 method)"
            ]
          },
          "metadata": {},
          "output_type": "display_data"
        }
      ],
      "source": [
        "function dot_product(x, y)\n",
        "    if length(x) == length(y) # insert test condition for equal lengths\n",
        "        return sum(x .* y) # compute and return dot product\n",
        "    else\n",
        "        return (\"length of x not equal to length of y\")\n",
        "    end\n",
        "end"
      ]
    },
    {
      "cell_type": "markdown",
      "id": "e0ce47a6-a5e8-4cd8-a776-5b04adfa6330",
      "metadata": {},
      "source": [
        "Here are some tests to make sure your code works as intended. Tests like\n",
        "these are useful to make sure everything works as intended. One reason\n",
        "to split your code up into functions is that it makes it straightforward\n",
        "to write tests to make sure each piece of your code works, which makes\n",
        "it easier to identify where errors are occuring."
      ]
    },
    {
      "cell_type": "code",
      "execution_count": 33,
      "id": "16",
      "metadata": {},
      "outputs": [
        {
          "data": {
            "text/plain": [
              "32"
            ]
          },
          "metadata": {},
          "output_type": "display_data"
        }
      ],
      "source": [
        "dot_product([1 2 3], [4 5 6])"
      ]
    },
    {
      "cell_type": "markdown",
      "id": "37f85171-25e8-4513-b57c-af25ff4378e7",
      "metadata": {},
      "source": [
        "If you know the value you should get, you can write a more formal test\n",
        "using the `@assert` macro, which is a good way to “automate” checking\n",
        "(since you get an obvious error if the code doesn’t work as desired):"
      ]
    },
    {
      "cell_type": "code",
      "execution_count": 34,
      "id": "18",
      "metadata": {},
      "outputs": [],
      "source": [
        "@assert dot_product([1 2 3], [4 5 6]) == 32"
      ]
    },
    {
      "cell_type": "markdown",
      "id": "65ccdcd8-449e-4f0c-8f4e-7953ea267f8d",
      "metadata": {},
      "source": [
        "Let’s also make sure we get an error when the dimensions of the two\n",
        "vectors don’t match:"
      ]
    },
    {
      "cell_type": "code",
      "execution_count": 35,
      "id": "20",
      "metadata": {},
      "outputs": [
        {
          "data": {
            "text/plain": [
              "\"length of x not equal to length of y\""
            ]
          },
          "metadata": {},
          "output_type": "display_data"
        }
      ],
      "source": [
        "dot_product([1 2 3], [4 5])"
      ]
    },
    {
      "cell_type": "markdown",
      "id": "8c069a05-159a-43b4-aa3f-d1fec9a2f727",
      "metadata": {},
      "source": [
        "### Making a Plot\n",
        "\n",
        "Write a function to compute the square of an integer `x`. Evaluate this\n",
        "function for integers between $x=-5$ and $x=5$ and make a plot of the\n",
        "squared values (you can find a quick guide to making various types of\n",
        "plots\n",
        "[here](https://viveks.me/environmental-systems-analysis/tutorials/julia-plots.html)).\n",
        "Make sure to label your axes."
      ]
    },
    {
      "cell_type": "code",
      "execution_count": 36,
      "id": "22",
      "metadata": {},
      "outputs": [
        {
          "data": {
            "image/png": "[encoded data removed]",
            "image/svg+xml": [
              "<?xml version=\"1.0\" encoding=\"utf-8\"?>\n",
              "<svg xmlns=\"http://www.w3.org/2000/svg\" xmlns:xlink=\"http://www.w3.org/1999/xlink\" width=\"600\" height=\"400\" viewBox=\"0 0 2400 1600\">\n",
              "<defs>\n",
              "  <clipPath id=\"clip370\">\n",
              "    <rect x=\"0\" y=\"0\" width=\"2400\" height=\"1600\"/>\n",
              "  </clipPath>\n",
              "</defs>\n",
              "<path clip-path=\"url(#clip370)\" d=\"M0 1600 L2400 1600 L2400 8.88178e-14 L0 8.88178e-14  Z\" fill=\"#ffffff\" fill-rule=\"evenodd\" fill-opacity=\"1\"/>\n",
              "<defs>\n",
              "  <clipPath id=\"clip371\">\n",
              "    <rect x=\"480\" y=\"0\" width=\"1681\" height=\"1600\"/>\n",
              "  </clipPath>\n",
              "</defs>\n",
              "<path clip-path=\"url(#clip370)\" d=\"M203.964 1423.18 L2352.76 1423.18 L2352.76 123.472 L203.964 123.472  Z\" fill=\"#ffffff\" fill-rule=\"evenodd\" fill-opacity=\"1\"/>\n",
              "<defs>\n",
              "  <clipPath id=\"clip372\">\n",
              "    <rect x=\"203\" y=\"123\" width=\"2150\" height=\"1301\"/>\n",
              "  </clipPath>\n",
              "</defs>\n",
              "<polyline clip-path=\"url(#clip372)\" style=\"stroke:#000000; stroke-linecap:round; stroke-linejoin:round; stroke-width:2; stroke-opacity:0.1; fill:none\" points=\"467.495,1423.18 467.495,123.472 \"/>\n",
              "<polyline clip-path=\"url(#clip372)\" style=\"stroke:#000000; stroke-linecap:round; stroke-linejoin:round; stroke-width:2; stroke-opacity:0.1; fill:none\" points=\"872.927,1423.18 872.927,123.472 \"/>\n",
              "<polyline clip-path=\"url(#clip372)\" style=\"stroke:#000000; stroke-linecap:round; stroke-linejoin:round; stroke-width:2; stroke-opacity:0.1; fill:none\" points=\"1278.36,1423.18 1278.36,123.472 \"/>\n",
              "<polyline clip-path=\"url(#clip372)\" style=\"stroke:#000000; stroke-linecap:round; stroke-linejoin:round; stroke-width:2; stroke-opacity:0.1; fill:none\" points=\"1683.79,1423.18 1683.79,123.472 \"/>\n",
              "<polyline clip-path=\"url(#clip372)\" style=\"stroke:#000000; stroke-linecap:round; stroke-linejoin:round; stroke-width:2; stroke-opacity:0.1; fill:none\" points=\"2089.22,1423.18 2089.22,123.472 \"/>\n",
              "<polyline clip-path=\"url(#clip370)\" style=\"stroke:#000000; stroke-linecap:round; stroke-linejoin:round; stroke-width:4; stroke-opacity:1; fill:none\" points=\"203.964,1423.18 2352.76,1423.18 \"/>\n",
              "<polyline clip-path=\"url(#clip370)\" style=\"stroke:#000000; stroke-linecap:round; stroke-linejoin:round; stroke-width:4; stroke-opacity:1; fill:none\" points=\"467.495,1423.18 467.495,1404.28 \"/>\n",
              "<polyline clip-path=\"url(#clip370)\" style=\"stroke:#000000; stroke-linecap:round; stroke-linejoin:round; stroke-width:4; stroke-opacity:1; fill:none\" points=\"872.927,1423.18 872.927,1404.28 \"/>\n",
              "<polyline clip-path=\"url(#clip370)\" style=\"stroke:#000000; stroke-linecap:round; stroke-linejoin:round; stroke-width:4; stroke-opacity:1; fill:none\" points=\"1278.36,1423.18 1278.36,1404.28 \"/>\n",
              "<polyline clip-path=\"url(#clip370)\" style=\"stroke:#000000; stroke-linecap:round; stroke-linejoin:round; stroke-width:4; stroke-opacity:1; fill:none\" points=\"1683.79,1423.18 1683.79,1404.28 \"/>\n",
              "<polyline clip-path=\"url(#clip370)\" style=\"stroke:#000000; stroke-linecap:round; stroke-linejoin:round; stroke-width:4; stroke-opacity:1; fill:none\" points=\"2089.22,1423.18 2089.22,1404.28 \"/>\n",
              "<path clip-path=\"url(#clip370)\" d=\"M436.395 1468.75 L466.071 1468.75 L466.071 1472.69 L436.395 1472.69 L436.395 1468.75 Z\" fill=\"#000000\" fill-rule=\"nonzero\" fill-opacity=\"1\" /><path clip-path=\"url(#clip370)\" d=\"M489.011 1455.09 L477.205 1473.54 L489.011 1473.54 L489.011 1455.09 M487.784 1451.02 L493.664 1451.02 L493.664 1473.54 L498.594 1473.54 L498.594 1477.43 L493.664 1477.43 L493.664 1485.58 L489.011 1485.58 L489.011 1477.43 L473.409 1477.43 L473.409 1472.92 L487.784 1451.02 Z\" fill=\"#000000\" fill-rule=\"nonzero\" fill-opacity=\"1\" /><path clip-path=\"url(#clip370)\" d=\"M842.87 1468.75 L872.545 1468.75 L872.545 1472.69 L842.87 1472.69 L842.87 1468.75 Z\" fill=\"#000000\" fill-rule=\"nonzero\" fill-opacity=\"1\" /><path clip-path=\"url(#clip370)\" d=\"M886.666 1481.64 L902.985 1481.64 L902.985 1485.58 L881.041 1485.58 L881.041 1481.64 Q883.703 1478.89 888.286 1474.26 Q892.892 1469.61 894.073 1468.27 Q896.318 1465.74 897.198 1464.01 Q898.101 1462.25 898.101 1460.56 Q898.101 1457.8 896.156 1456.07 Q894.235 1454.33 891.133 1454.33 Q888.934 1454.33 886.48 1455.09 Q884.05 1455.86 881.272 1457.41 L881.272 1452.69 Q884.096 1451.55 886.55 1450.97 Q889.004 1450.39 891.041 1450.39 Q896.411 1450.39 899.605 1453.08 Q902.8 1455.77 902.8 1460.26 Q902.8 1462.39 901.99 1464.31 Q901.203 1466.2 899.096 1468.8 Q898.517 1469.47 895.416 1472.69 Q892.314 1475.88 886.666 1481.64 Z\" fill=\"#000000\" fill-rule=\"nonzero\" fill-opacity=\"1\" /><path clip-path=\"url(#clip370)\" d=\"M1278.36 1454.1 Q1274.75 1454.1 1272.92 1457.66 Q1271.11 1461.2 1271.11 1468.33 Q1271.11 1475.44 1272.92 1479.01 Q1274.75 1482.55 1278.36 1482.55 Q1281.99 1482.55 1283.8 1479.01 Q1285.63 1475.44 1285.63 1468.33 Q1285.63 1461.2 1283.8 1457.66 Q1281.99 1454.1 1278.36 1454.1 M1278.36 1450.39 Q1284.17 1450.39 1287.23 1455 Q1290.3 1459.58 1290.3 1468.33 Q1290.3 1477.06 1287.23 1481.67 Q1284.17 1486.25 1278.36 1486.25 Q1272.55 1486.25 1269.47 1481.67 Q1266.42 1477.06 1266.42 1468.33 Q1266.42 1459.58 1269.47 1455 Q1272.55 1450.39 1278.36 1450.39 Z\" fill=\"#000000\" fill-rule=\"nonzero\" fill-opacity=\"1\" /><path clip-path=\"url(#clip370)\" d=\"M1678.45 1481.64 L1694.76 1481.64 L1694.76 1485.58 L1672.82 1485.58 L1672.82 1481.64 Q1675.48 1478.89 1680.07 1474.26 Q1684.67 1469.61 1685.85 1468.27 Q1688.1 1465.74 1688.98 1464.01 Q1689.88 1462.25 1689.88 1460.56 Q1689.88 1457.8 1687.94 1456.07 Q1686.01 1454.33 1682.91 1454.33 Q1680.71 1454.33 1678.26 1455.09 Q1675.83 1455.86 1673.05 1457.41 L1673.05 1452.69 Q1675.88 1451.55 1678.33 1450.97 Q1680.78 1450.39 1682.82 1450.39 Q1688.19 1450.39 1691.38 1453.08 Q1694.58 1455.77 1694.58 1460.26 Q1694.58 1462.39 1693.77 1464.31 Q1692.98 1466.2 1690.88 1468.8 Q1690.3 1469.47 1687.2 1472.69 Q1684.09 1475.88 1678.45 1481.64 Z\" fill=\"#000000\" fill-rule=\"nonzero\" fill-opacity=\"1\" /><path clip-path=\"url(#clip370)\" d=\"M2092.23 1455.09 L2080.43 1473.54 L2092.23 1473.54 L2092.23 1455.09 M2091.01 1451.02 L2096.89 1451.02 L2096.89 1473.54 L2101.82 1473.54 L2101.82 1477.43 L2096.89 1477.43 L2096.89 1485.58 L2092.23 1485.58 L2092.23 1477.43 L2076.63 1477.43 L2076.63 1472.92 L2091.01 1451.02 Z\" fill=\"#000000\" fill-rule=\"nonzero\" fill-opacity=\"1\" /><path clip-path=\"url(#clip370)\" d=\"M1294.97 1532.4 L1282.08 1549.74 L1295.64 1568.04 L1288.74 1568.04 L1278.36 1554.04 L1267.98 1568.04 L1261.08 1568.04 L1274.92 1549.39 L1262.25 1532.4 L1269.16 1532.4 L1278.61 1545.1 L1288.07 1532.4 L1294.97 1532.4 Z\" fill=\"#000000\" fill-rule=\"nonzero\" fill-opacity=\"1\" /><polyline clip-path=\"url(#clip372)\" style=\"stroke:#000000; stroke-linecap:round; stroke-linejoin:round; stroke-width:2; stroke-opacity:0.1; fill:none\" points=\"203.964,1386.4 2352.76,1386.4 \"/>\n",
              "<polyline clip-path=\"url(#clip372)\" style=\"stroke:#000000; stroke-linecap:round; stroke-linejoin:round; stroke-width:2; stroke-opacity:0.1; fill:none\" points=\"203.964,1141.17 2352.76,1141.17 \"/>\n",
              "<polyline clip-path=\"url(#clip372)\" style=\"stroke:#000000; stroke-linecap:round; stroke-linejoin:round; stroke-width:2; stroke-opacity:0.1; fill:none\" points=\"203.964,895.94 2352.76,895.94 \"/>\n",
              "<polyline clip-path=\"url(#clip372)\" style=\"stroke:#000000; stroke-linecap:round; stroke-linejoin:round; stroke-width:2; stroke-opacity:0.1; fill:none\" points=\"203.964,650.712 2352.76,650.712 \"/>\n",
              "<polyline clip-path=\"url(#clip372)\" style=\"stroke:#000000; stroke-linecap:round; stroke-linejoin:round; stroke-width:2; stroke-opacity:0.1; fill:none\" points=\"203.964,405.484 2352.76,405.484 \"/>\n",
              "<polyline clip-path=\"url(#clip372)\" style=\"stroke:#000000; stroke-linecap:round; stroke-linejoin:round; stroke-width:2; stroke-opacity:0.1; fill:none\" points=\"203.964,160.256 2352.76,160.256 \"/>\n",
              "<polyline clip-path=\"url(#clip370)\" style=\"stroke:#000000; stroke-linecap:round; stroke-linejoin:round; stroke-width:4; stroke-opacity:1; fill:none\" points=\"203.964,1423.18 203.964,123.472 \"/>\n",
              "<polyline clip-path=\"url(#clip370)\" style=\"stroke:#000000; stroke-linecap:round; stroke-linejoin:round; stroke-width:4; stroke-opacity:1; fill:none\" points=\"203.964,1386.4 222.861,1386.4 \"/>\n",
              "<polyline clip-path=\"url(#clip370)\" style=\"stroke:#000000; stroke-linecap:round; stroke-linejoin:round; stroke-width:4; stroke-opacity:1; fill:none\" points=\"203.964,1141.17 222.861,1141.17 \"/>\n",
              "<polyline clip-path=\"url(#clip370)\" style=\"stroke:#000000; stroke-linecap:round; stroke-linejoin:round; stroke-width:4; stroke-opacity:1; fill:none\" points=\"203.964,895.94 222.861,895.94 \"/>\n",
              "<polyline clip-path=\"url(#clip370)\" style=\"stroke:#000000; stroke-linecap:round; stroke-linejoin:round; stroke-width:4; stroke-opacity:1; fill:none\" points=\"203.964,650.712 222.861,650.712 \"/>\n",
              "<polyline clip-path=\"url(#clip370)\" style=\"stroke:#000000; stroke-linecap:round; stroke-linejoin:round; stroke-width:4; stroke-opacity:1; fill:none\" points=\"203.964,405.484 222.861,405.484 \"/>\n",
              "<polyline clip-path=\"url(#clip370)\" style=\"stroke:#000000; stroke-linecap:round; stroke-linejoin:round; stroke-width:4; stroke-opacity:1; fill:none\" points=\"203.964,160.256 222.861,160.256 \"/>\n",
              "<path clip-path=\"url(#clip370)\" d=\"M156.019 1372.19 Q152.408 1372.19 150.579 1375.76 Q148.774 1379.3 148.774 1386.43 Q148.774 1393.54 150.579 1397.1 Q152.408 1400.64 156.019 1400.64 Q159.653 1400.64 161.459 1397.1 Q163.288 1393.54 163.288 1386.43 Q163.288 1379.3 161.459 1375.76 Q159.653 1372.19 156.019 1372.19 M156.019 1368.49 Q161.829 1368.49 164.885 1373.1 Q167.964 1377.68 167.964 1386.43 Q167.964 1395.16 164.885 1399.76 Q161.829 1404.35 156.019 1404.35 Q150.209 1404.35 147.13 1399.76 Q144.075 1395.16 144.075 1386.43 Q144.075 1377.68 147.13 1373.1 Q150.209 1368.49 156.019 1368.49 Z\" fill=\"#000000\" fill-rule=\"nonzero\" fill-opacity=\"1\" /><path clip-path=\"url(#clip370)\" d=\"M147.061 1123.89 L165.417 1123.89 L165.417 1127.82 L151.343 1127.82 L151.343 1136.3 Q152.362 1135.95 153.38 1135.79 Q154.399 1135.6 155.417 1135.6 Q161.204 1135.6 164.584 1138.77 Q167.964 1141.94 167.964 1147.36 Q167.964 1152.94 164.491 1156.04 Q161.019 1159.12 154.7 1159.12 Q152.524 1159.12 150.255 1158.75 Q148.01 1158.38 145.603 1157.64 L145.603 1152.94 Q147.686 1154.07 149.908 1154.63 Q152.13 1155.18 154.607 1155.18 Q158.612 1155.18 160.95 1153.08 Q163.288 1150.97 163.288 1147.36 Q163.288 1143.75 160.95 1141.64 Q158.612 1139.54 154.607 1139.54 Q152.732 1139.54 150.857 1139.95 Q149.005 1140.37 147.061 1141.25 L147.061 1123.89 Z\" fill=\"#000000\" fill-rule=\"nonzero\" fill-opacity=\"1\" /><path clip-path=\"url(#clip370)\" d=\"M116.668 909.285 L124.306 909.285 L124.306 882.919 L115.996 884.586 L115.996 880.327 L124.26 878.66 L128.936 878.66 L128.936 909.285 L136.575 909.285 L136.575 913.22 L116.668 913.22 L116.668 909.285 Z\" fill=\"#000000\" fill-rule=\"nonzero\" fill-opacity=\"1\" /><path clip-path=\"url(#clip370)\" d=\"M156.019 881.739 Q152.408 881.739 150.579 885.303 Q148.774 888.845 148.774 895.975 Q148.774 903.081 150.579 906.646 Q152.408 910.188 156.019 910.188 Q159.653 910.188 161.459 906.646 Q163.288 903.081 163.288 895.975 Q163.288 888.845 161.459 885.303 Q159.653 881.739 156.019 881.739 M156.019 878.035 Q161.829 878.035 164.885 882.641 Q167.964 887.225 167.964 895.975 Q167.964 904.701 164.885 909.308 Q161.829 913.891 156.019 913.891 Q150.209 913.891 147.13 909.308 Q144.075 904.701 144.075 895.975 Q144.075 887.225 147.13 882.641 Q150.209 878.035 156.019 878.035 Z\" fill=\"#000000\" fill-rule=\"nonzero\" fill-opacity=\"1\" /><path clip-path=\"url(#clip370)\" d=\"M117.663 664.057 L125.302 664.057 L125.302 637.691 L116.992 639.358 L116.992 635.099 L125.255 633.432 L129.931 633.432 L129.931 664.057 L137.57 664.057 L137.57 667.992 L117.663 667.992 L117.663 664.057 Z\" fill=\"#000000\" fill-rule=\"nonzero\" fill-opacity=\"1\" /><path clip-path=\"url(#clip370)\" d=\"M147.061 633.432 L165.417 633.432 L165.417 637.367 L151.343 637.367 L151.343 645.839 Q152.362 645.492 153.38 645.33 Q154.399 645.145 155.417 645.145 Q161.204 645.145 164.584 648.316 Q167.964 651.488 167.964 656.904 Q167.964 662.483 164.491 665.585 Q161.019 668.663 154.7 668.663 Q152.524 668.663 150.255 668.293 Q148.01 667.923 145.603 667.182 L145.603 662.483 Q147.686 663.617 149.908 664.173 Q152.13 664.728 154.607 664.728 Q158.612 664.728 160.95 662.622 Q163.288 660.515 163.288 656.904 Q163.288 653.293 160.95 651.187 Q158.612 649.08 154.607 649.08 Q152.732 649.08 150.857 649.497 Q149.005 649.913 147.061 650.793 L147.061 633.432 Z\" fill=\"#000000\" fill-rule=\"nonzero\" fill-opacity=\"1\" /><path clip-path=\"url(#clip370)\" d=\"M119.885 418.829 L136.204 418.829 L136.204 422.764 L114.26 422.764 L114.26 418.829 Q116.922 416.074 121.505 411.445 Q126.112 406.792 127.292 405.449 Q129.538 402.926 130.417 401.19 Q131.32 399.431 131.32 397.741 Q131.32 394.987 129.376 393.25 Q127.455 391.514 124.353 391.514 Q122.154 391.514 119.7 392.278 Q117.269 393.042 114.492 394.593 L114.492 389.871 Q117.316 388.737 119.769 388.158 Q122.223 387.579 124.26 387.579 Q129.63 387.579 132.825 390.264 Q136.019 392.95 136.019 397.44 Q136.019 399.57 135.209 401.491 Q134.422 403.389 132.316 405.982 Q131.737 406.653 128.635 409.871 Q125.533 413.065 119.885 418.829 Z\" fill=\"#000000\" fill-rule=\"nonzero\" fill-opacity=\"1\" /><path clip-path=\"url(#clip370)\" d=\"M156.019 391.283 Q152.408 391.283 150.579 394.848 Q148.774 398.389 148.774 405.519 Q148.774 412.625 150.579 416.19 Q152.408 419.732 156.019 419.732 Q159.653 419.732 161.459 416.19 Q163.288 412.625 163.288 405.519 Q163.288 398.389 161.459 394.848 Q159.653 391.283 156.019 391.283 M156.019 387.579 Q161.829 387.579 164.885 392.186 Q167.964 396.769 167.964 405.519 Q167.964 414.246 164.885 418.852 Q161.829 423.435 156.019 423.435 Q150.209 423.435 147.13 418.852 Q144.075 414.246 144.075 405.519 Q144.075 396.769 147.13 392.186 Q150.209 387.579 156.019 387.579 Z\" fill=\"#000000\" fill-rule=\"nonzero\" fill-opacity=\"1\" /><path clip-path=\"url(#clip370)\" d=\"M120.88 173.601 L137.2 173.601 L137.2 177.536 L115.256 177.536 L115.256 173.601 Q117.918 170.847 122.501 166.217 Q127.107 161.564 128.288 160.222 Q130.533 157.698 131.413 155.962 Q132.316 154.203 132.316 152.513 Q132.316 149.759 130.371 148.023 Q128.45 146.286 125.348 146.286 Q123.149 146.286 120.695 147.05 Q118.265 147.814 115.487 149.365 L115.487 144.643 Q118.311 143.509 120.765 142.93 Q123.218 142.351 125.255 142.351 Q130.626 142.351 133.82 145.036 Q137.015 147.722 137.015 152.212 Q137.015 154.342 136.204 156.263 Q135.417 158.161 133.311 160.754 Q132.732 161.425 129.63 164.643 Q126.529 167.837 120.88 173.601 Z\" fill=\"#000000\" fill-rule=\"nonzero\" fill-opacity=\"1\" /><path clip-path=\"url(#clip370)\" d=\"M147.061 142.976 L165.417 142.976 L165.417 146.911 L151.343 146.911 L151.343 155.384 Q152.362 155.036 153.38 154.874 Q154.399 154.689 155.417 154.689 Q161.204 154.689 164.584 157.86 Q167.964 161.032 167.964 166.448 Q167.964 172.027 164.491 175.129 Q161.019 178.208 154.7 178.208 Q152.524 178.208 150.255 177.837 Q148.01 177.467 145.603 176.726 L145.603 172.027 Q147.686 173.161 149.908 173.717 Q152.13 174.272 154.607 174.272 Q158.612 174.272 160.95 172.166 Q163.288 170.059 163.288 166.448 Q163.288 162.837 160.95 160.731 Q158.612 158.624 154.607 158.624 Q152.732 158.624 150.857 159.041 Q149.005 159.458 147.061 160.337 L147.061 142.976 Z\" fill=\"#000000\" fill-rule=\"nonzero\" fill-opacity=\"1\" /><path clip-path=\"url(#clip370)\" d=\"M28.3562 802.56 L45.7028 815.451 L64.0042 801.892 L64.0042 808.799 L49.9996 819.175 L64.0042 829.551 L64.0042 836.458 L45.3526 822.612 L28.3562 835.28 L28.3562 828.373 L41.0558 818.92 L28.3562 809.467 L28.3562 802.56 Z\" fill=\"#000000\" fill-rule=\"nonzero\" fill-opacity=\"1\" /><path clip-path=\"url(#clip370)\" d=\"M16.4842 769.332 L34.2127 752.049 L34.2127 758.446 L21.6404 772.451 L34.2127 786.455 L34.2127 792.853 L16.4842 775.57 L16.4842 769.332 Z\" fill=\"#000000\" fill-rule=\"nonzero\" fill-opacity=\"1\" /><path clip-path=\"url(#clip370)\" d=\"M58.5933 732.633 L58.5933 710.194 L64.0042 710.194 L64.0042 740.368 L58.5933 740.368 Q54.8057 736.707 48.44 730.405 Q42.0425 724.071 40.1964 722.448 Q36.7271 719.361 34.34 718.151 Q31.921 716.91 29.5975 716.91 Q25.8099 716.91 23.4228 719.584 Q21.0356 722.225 21.0356 726.49 Q21.0356 729.514 22.086 732.888 Q23.1363 736.23 25.2688 740.049 L18.7758 740.049 Q17.2162 736.166 16.4205 732.792 Q15.6248 729.419 15.6248 726.618 Q15.6248 719.233 19.3169 714.841 Q23.009 710.449 29.1837 710.449 Q32.112 710.449 34.7537 711.563 Q37.3637 712.645 40.9285 715.541 Q41.8515 716.337 46.2757 720.602 Q50.668 724.867 58.5933 732.633 Z\" fill=\"#000000\" fill-rule=\"nonzero\" fill-opacity=\"1\" /><path clip-path=\"url(#clip370)\" d=\"M1064.53 18.8205 L1064.53 41.5461 L1074.82 41.5461 Q1080.53 41.5461 1083.65 38.5889 Q1086.77 35.6318 1086.77 30.163 Q1086.77 24.7348 1083.65 21.7777 Q1080.53 18.8205 1074.82 18.8205 L1064.53 18.8205 M1056.35 12.096 L1074.82 12.096 Q1084.99 12.096 1090.17 16.714 Q1095.4 21.2916 1095.4 30.163 Q1095.4 39.1155 1090.17 43.6931 Q1084.99 48.2706 1074.82 48.2706 L1064.53 48.2706 L1064.53 72.576 L1056.35 72.576 L1056.35 12.096 Z\" fill=\"#000000\" fill-rule=\"nonzero\" fill-opacity=\"1\" /><path clip-path=\"url(#clip370)\" d=\"M1106.05 9.54393 L1113.51 9.54393 L1113.51 72.576 L1106.05 72.576 L1106.05 9.54393 Z\" fill=\"#000000\" fill-rule=\"nonzero\" fill-opacity=\"1\" /><path clip-path=\"url(#clip370)\" d=\"M1146.69 32.4315 Q1140.69 32.4315 1137.21 37.1306 Q1133.72 41.7891 1133.72 49.9314 Q1133.72 58.0738 1137.17 62.7728 Q1140.65 67.4314 1146.69 67.4314 Q1152.64 67.4314 1156.12 62.7323 Q1159.61 58.0333 1159.61 49.9314 Q1159.61 41.8701 1156.12 37.1711 Q1152.64 32.4315 1146.69 32.4315 M1146.69 26.1121 Q1156.41 26.1121 1161.96 32.4315 Q1167.51 38.7509 1167.51 49.9314 Q1167.51 61.0714 1161.96 67.4314 Q1156.41 73.7508 1146.69 73.7508 Q1136.92 73.7508 1131.37 67.4314 Q1125.86 61.0714 1125.86 49.9314 Q1125.86 38.7509 1131.37 32.4315 Q1136.92 26.1121 1146.69 26.1121 Z\" fill=\"#000000\" fill-rule=\"nonzero\" fill-opacity=\"1\" /><path clip-path=\"url(#clip370)\" d=\"M1187.23 14.324 L1187.23 27.2059 L1202.59 27.2059 L1202.59 32.9987 L1187.23 32.9987 L1187.23 57.6282 Q1187.23 63.1779 1188.73 64.7578 Q1190.27 66.3376 1194.93 66.3376 L1202.59 66.3376 L1202.59 72.576 L1194.93 72.576 Q1186.3 72.576 1183.02 69.3758 Q1179.74 66.1351 1179.74 57.6282 L1179.74 32.9987 L1174.27 32.9987 L1174.27 27.2059 L1179.74 27.2059 L1179.74 14.324 L1187.23 14.324 Z\" fill=\"#000000\" fill-rule=\"nonzero\" fill-opacity=\"1\" /><path clip-path=\"url(#clip370)\" d=\"M1256.34 32.4315 Q1250.35 32.4315 1246.86 37.1306 Q1243.38 41.7891 1243.38 49.9314 Q1243.38 58.0738 1246.82 62.7728 Q1250.31 67.4314 1256.34 67.4314 Q1262.3 67.4314 1265.78 62.7323 Q1269.27 58.0333 1269.27 49.9314 Q1269.27 41.8701 1265.78 37.1711 Q1262.3 32.4315 1256.34 32.4315 M1256.34 26.1121 Q1266.07 26.1121 1271.61 32.4315 Q1277.16 38.7509 1277.16 49.9314 Q1277.16 61.0714 1271.61 67.4314 Q1266.07 73.7508 1256.34 73.7508 Q1246.58 73.7508 1241.03 67.4314 Q1235.52 61.0714 1235.52 49.9314 Q1235.52 38.7509 1241.03 32.4315 Q1246.58 26.1121 1256.34 26.1121 Z\" fill=\"#000000\" fill-rule=\"nonzero\" fill-opacity=\"1\" /><path clip-path=\"url(#clip370)\" d=\"M1312.49 9.54393 L1312.49 15.7418 L1305.36 15.7418 Q1301.35 15.7418 1299.77 17.3622 Q1298.23 18.9825 1298.23 23.1955 L1298.23 27.2059 L1310.5 27.2059 L1310.5 32.9987 L1298.23 32.9987 L1298.23 72.576 L1290.74 72.576 L1290.74 32.9987 L1283.61 32.9987 L1283.61 27.2059 L1290.74 27.2059 L1290.74 24.0462 Q1290.74 16.471 1294.26 13.0277 Q1297.78 9.54393 1305.44 9.54393 L1312.49 9.54393 Z\" fill=\"#000000\" fill-rule=\"nonzero\" fill-opacity=\"1\" /><path clip-path=\"url(#clip370)\" d=\"M1382.81 27.2059 L1366.41 49.2833 L1383.66 72.576 L1374.87 72.576 L1361.67 54.752 L1348.46 72.576 L1339.67 72.576 L1357.29 48.8377 L1341.17 27.2059 L1349.96 27.2059 L1361.99 43.369 L1374.02 27.2059 L1382.81 27.2059 Z\" fill=\"#000000\" fill-rule=\"nonzero\" fill-opacity=\"1\" /><path clip-path=\"url(#clip370)\" d=\"M1425.1 12.096 L1447.1 34.6595 L1438.96 34.6595 L1421.13 18.6585 L1403.31 34.6595 L1395.17 34.6595 L1417.16 12.096 L1425.1 12.096 Z\" fill=\"#000000\" fill-rule=\"nonzero\" fill-opacity=\"1\" /><path clip-path=\"url(#clip370)\" d=\"M1471.81 65.6895 L1500.37 65.6895 L1500.37 72.576 L1461.97 72.576 L1461.97 65.6895 Q1466.63 60.8689 1474.65 52.7671 Q1482.71 44.6248 1484.77 42.2752 Q1488.7 37.8598 1490.24 34.8216 Q1491.82 31.7429 1491.82 28.7857 Q1491.82 23.9651 1488.42 20.927 Q1485.06 17.8888 1479.63 17.8888 Q1475.78 17.8888 1471.49 19.2256 Q1467.23 20.5624 1462.37 23.2765 L1462.37 15.0127 Q1467.31 13.0277 1471.61 12.015 Q1475.9 11.0023 1479.47 11.0023 Q1488.86 11.0023 1494.46 15.7013 Q1500.05 20.4004 1500.05 28.2591 Q1500.05 31.9859 1498.63 35.3482 Q1497.25 38.6699 1493.56 43.2069 Q1492.55 44.3817 1487.12 50.0125 Q1481.69 55.6027 1471.81 65.6895 Z\" fill=\"#000000\" fill-rule=\"nonzero\" fill-opacity=\"1\" /><polyline clip-path=\"url(#clip372)\" style=\"stroke:#009af9; stroke-linecap:round; stroke-linejoin:round; stroke-width:4; stroke-opacity:1; fill:none\" points=\"264.778,160.256 467.495,601.666 670.211,944.985 872.927,1190.21 1075.64,1337.35 1278.36,1386.4 1481.08,1337.35 1683.79,1190.21 1886.51,944.985 2089.22,601.666 2291.94,160.256 \"/>\n",
              "<path clip-path=\"url(#clip370)\" d=\"M2013.82 1379.86 L2281.13 1379.86 L2281.13 1276.18 L2013.82 1276.18  Z\" fill=\"#ffffff\" fill-rule=\"evenodd\" fill-opacity=\"1\"/>\n",
              "<polyline clip-path=\"url(#clip370)\" style=\"stroke:#000000; stroke-linecap:round; stroke-linejoin:round; stroke-width:4; stroke-opacity:1; fill:none\" points=\"2013.82,1379.86 2281.13,1379.86 2281.13,1276.18 2013.82,1276.18 2013.82,1379.86 \"/>\n",
              "<polyline clip-path=\"url(#clip370)\" style=\"stroke:#009af9; stroke-linecap:round; stroke-linejoin:round; stroke-width:4; stroke-opacity:1; fill:none\" points=\"2037.7,1328.02 2180.95,1328.02 \"/>\n",
              "<path clip-path=\"url(#clip370)\" d=\"M2218.67 1347.7 Q2216.86 1352.33 2215.15 1353.75 Q2213.43 1355.16 2210.56 1355.16 L2207.16 1355.16 L2207.16 1351.59 L2209.66 1351.59 Q2211.42 1351.59 2212.39 1350.76 Q2213.37 1349.93 2214.55 1346.82 L2215.31 1344.88 L2204.82 1319.37 L2209.34 1319.37 L2217.44 1339.65 L2225.54 1319.37 L2230.06 1319.37 L2218.67 1347.7 Z\" fill=\"#000000\" fill-rule=\"nonzero\" fill-opacity=\"1\" /><path clip-path=\"url(#clip370)\" d=\"M2237.35 1341.36 L2244.99 1341.36 L2244.99 1315 L2236.68 1316.66 L2236.68 1312.4 L2244.94 1310.74 L2249.62 1310.74 L2249.62 1341.36 L2257.25 1341.36 L2257.25 1345.3 L2237.35 1345.3 L2237.35 1341.36 Z\" fill=\"#000000\" fill-rule=\"nonzero\" fill-opacity=\"1\" /></svg>\n"
            ],
            "text/html": [
              "<?xml version=\"1.0\" encoding=\"utf-8\"?>\n",
              "<svg xmlns=\"http://www.w3.org/2000/svg\" xmlns:xlink=\"http://www.w3.org/1999/xlink\" width=\"600\" height=\"400\" viewBox=\"0 0 2400 1600\">\n",
              "<defs>\n",
              "  <clipPath id=\"clip420\">\n",
              "    <rect x=\"0\" y=\"0\" width=\"2400\" height=\"1600\"/>\n",
              "  </clipPath>\n",
              "</defs>\n",
              "<path clip-path=\"url(#clip420)\" d=\"M0 1600 L2400 1600 L2400 8.88178e-14 L0 8.88178e-14  Z\" fill=\"#ffffff\" fill-rule=\"evenodd\" fill-opacity=\"1\"/>\n",
              "<defs>\n",
              "  <clipPath id=\"clip421\">\n",
              "    <rect x=\"480\" y=\"0\" width=\"1681\" height=\"1600\"/>\n",
              "  </clipPath>\n",
              "</defs>\n",
              "<path clip-path=\"url(#clip420)\" d=\"M203.964 1423.18 L2352.76 1423.18 L2352.76 123.472 L203.964 123.472  Z\" fill=\"#ffffff\" fill-rule=\"evenodd\" fill-opacity=\"1\"/>\n",
              "<defs>\n",
              "  <clipPath id=\"clip422\">\n",
              "    <rect x=\"203\" y=\"123\" width=\"2150\" height=\"1301\"/>\n",
              "  </clipPath>\n",
              "</defs>\n",
              "<polyline clip-path=\"url(#clip422)\" style=\"stroke:#000000; stroke-linecap:round; stroke-linejoin:round; stroke-width:2; stroke-opacity:0.1; fill:none\" points=\"467.495,1423.18 467.495,123.472 \"/>\n",
              "<polyline clip-path=\"url(#clip422)\" style=\"stroke:#000000; stroke-linecap:round; stroke-linejoin:round; stroke-width:2; stroke-opacity:0.1; fill:none\" points=\"872.927,1423.18 872.927,123.472 \"/>\n",
              "<polyline clip-path=\"url(#clip422)\" style=\"stroke:#000000; stroke-linecap:round; stroke-linejoin:round; stroke-width:2; stroke-opacity:0.1; fill:none\" points=\"1278.36,1423.18 1278.36,123.472 \"/>\n",
              "<polyline clip-path=\"url(#clip422)\" style=\"stroke:#000000; stroke-linecap:round; stroke-linejoin:round; stroke-width:2; stroke-opacity:0.1; fill:none\" points=\"1683.79,1423.18 1683.79,123.472 \"/>\n",
              "<polyline clip-path=\"url(#clip422)\" style=\"stroke:#000000; stroke-linecap:round; stroke-linejoin:round; stroke-width:2; stroke-opacity:0.1; fill:none\" points=\"2089.22,1423.18 2089.22,123.472 \"/>\n",
              "<polyline clip-path=\"url(#clip420)\" style=\"stroke:#000000; stroke-linecap:round; stroke-linejoin:round; stroke-width:4; stroke-opacity:1; fill:none\" points=\"203.964,1423.18 2352.76,1423.18 \"/>\n",
              "<polyline clip-path=\"url(#clip420)\" style=\"stroke:#000000; stroke-linecap:round; stroke-linejoin:round; stroke-width:4; stroke-opacity:1; fill:none\" points=\"467.495,1423.18 467.495,1404.28 \"/>\n",
              "<polyline clip-path=\"url(#clip420)\" style=\"stroke:#000000; stroke-linecap:round; stroke-linejoin:round; stroke-width:4; stroke-opacity:1; fill:none\" points=\"872.927,1423.18 872.927,1404.28 \"/>\n",
              "<polyline clip-path=\"url(#clip420)\" style=\"stroke:#000000; stroke-linecap:round; stroke-linejoin:round; stroke-width:4; stroke-opacity:1; fill:none\" points=\"1278.36,1423.18 1278.36,1404.28 \"/>\n",
              "<polyline clip-path=\"url(#clip420)\" style=\"stroke:#000000; stroke-linecap:round; stroke-linejoin:round; stroke-width:4; stroke-opacity:1; fill:none\" points=\"1683.79,1423.18 1683.79,1404.28 \"/>\n",
              "<polyline clip-path=\"url(#clip420)\" style=\"stroke:#000000; stroke-linecap:round; stroke-linejoin:round; stroke-width:4; stroke-opacity:1; fill:none\" points=\"2089.22,1423.18 2089.22,1404.28 \"/>\n",
              "<path clip-path=\"url(#clip420)\" d=\"M436.395 1468.75 L466.071 1468.75 L466.071 1472.69 L436.395 1472.69 L436.395 1468.75 Z\" fill=\"#000000\" fill-rule=\"nonzero\" fill-opacity=\"1\" /><path clip-path=\"url(#clip420)\" d=\"M489.011 1455.09 L477.205 1473.54 L489.011 1473.54 L489.011 1455.09 M487.784 1451.02 L493.664 1451.02 L493.664 1473.54 L498.594 1473.54 L498.594 1477.43 L493.664 1477.43 L493.664 1485.58 L489.011 1485.58 L489.011 1477.43 L473.409 1477.43 L473.409 1472.92 L487.784 1451.02 Z\" fill=\"#000000\" fill-rule=\"nonzero\" fill-opacity=\"1\" /><path clip-path=\"url(#clip420)\" d=\"M842.87 1468.75 L872.545 1468.75 L872.545 1472.69 L842.87 1472.69 L842.87 1468.75 Z\" fill=\"#000000\" fill-rule=\"nonzero\" fill-opacity=\"1\" /><path clip-path=\"url(#clip420)\" d=\"M886.666 1481.64 L902.985 1481.64 L902.985 1485.58 L881.041 1485.58 L881.041 1481.64 Q883.703 1478.89 888.286 1474.26 Q892.892 1469.61 894.073 1468.27 Q896.318 1465.74 897.198 1464.01 Q898.101 1462.25 898.101 1460.56 Q898.101 1457.8 896.156 1456.07 Q894.235 1454.33 891.133 1454.33 Q888.934 1454.33 886.48 1455.09 Q884.05 1455.86 881.272 1457.41 L881.272 1452.69 Q884.096 1451.55 886.55 1450.97 Q889.004 1450.39 891.041 1450.39 Q896.411 1450.39 899.605 1453.08 Q902.8 1455.77 902.8 1460.26 Q902.8 1462.39 901.99 1464.31 Q901.203 1466.2 899.096 1468.8 Q898.517 1469.47 895.416 1472.69 Q892.314 1475.88 886.666 1481.64 Z\" fill=\"#000000\" fill-rule=\"nonzero\" fill-opacity=\"1\" /><path clip-path=\"url(#clip420)\" d=\"M1278.36 1454.1 Q1274.75 1454.1 1272.92 1457.66 Q1271.11 1461.2 1271.11 1468.33 Q1271.11 1475.44 1272.92 1479.01 Q1274.75 1482.55 1278.36 1482.55 Q1281.99 1482.55 1283.8 1479.01 Q1285.63 1475.44 1285.63 1468.33 Q1285.63 1461.2 1283.8 1457.66 Q1281.99 1454.1 1278.36 1454.1 M1278.36 1450.39 Q1284.17 1450.39 1287.23 1455 Q1290.3 1459.58 1290.3 1468.33 Q1290.3 1477.06 1287.23 1481.67 Q1284.17 1486.25 1278.36 1486.25 Q1272.55 1486.25 1269.47 1481.67 Q1266.42 1477.06 1266.42 1468.33 Q1266.42 1459.58 1269.47 1455 Q1272.55 1450.39 1278.36 1450.39 Z\" fill=\"#000000\" fill-rule=\"nonzero\" fill-opacity=\"1\" /><path clip-path=\"url(#clip420)\" d=\"M1678.45 1481.64 L1694.76 1481.64 L1694.76 1485.58 L1672.82 1485.58 L1672.82 1481.64 Q1675.48 1478.89 1680.07 1474.26 Q1684.67 1469.61 1685.85 1468.27 Q1688.1 1465.74 1688.98 1464.01 Q1689.88 1462.25 1689.88 1460.56 Q1689.88 1457.8 1687.94 1456.07 Q1686.01 1454.33 1682.91 1454.33 Q1680.71 1454.33 1678.26 1455.09 Q1675.83 1455.86 1673.05 1457.41 L1673.05 1452.69 Q1675.88 1451.55 1678.33 1450.97 Q1680.78 1450.39 1682.82 1450.39 Q1688.19 1450.39 1691.38 1453.08 Q1694.58 1455.77 1694.58 1460.26 Q1694.58 1462.39 1693.77 1464.31 Q1692.98 1466.2 1690.88 1468.8 Q1690.3 1469.47 1687.2 1472.69 Q1684.09 1475.88 1678.45 1481.64 Z\" fill=\"#000000\" fill-rule=\"nonzero\" fill-opacity=\"1\" /><path clip-path=\"url(#clip420)\" d=\"M2092.23 1455.09 L2080.43 1473.54 L2092.23 1473.54 L2092.23 1455.09 M2091.01 1451.02 L2096.89 1451.02 L2096.89 1473.54 L2101.82 1473.54 L2101.82 1477.43 L2096.89 1477.43 L2096.89 1485.58 L2092.23 1485.58 L2092.23 1477.43 L2076.63 1477.43 L2076.63 1472.92 L2091.01 1451.02 Z\" fill=\"#000000\" fill-rule=\"nonzero\" fill-opacity=\"1\" /><path clip-path=\"url(#clip420)\" d=\"M1294.97 1532.4 L1282.08 1549.74 L1295.64 1568.04 L1288.74 1568.04 L1278.36 1554.04 L1267.98 1568.04 L1261.08 1568.04 L1274.92 1549.39 L1262.25 1532.4 L1269.16 1532.4 L1278.61 1545.1 L1288.07 1532.4 L1294.97 1532.4 Z\" fill=\"#000000\" fill-rule=\"nonzero\" fill-opacity=\"1\" /><polyline clip-path=\"url(#clip422)\" style=\"stroke:#000000; stroke-linecap:round; stroke-linejoin:round; stroke-width:2; stroke-opacity:0.1; fill:none\" points=\"203.964,1386.4 2352.76,1386.4 \"/>\n",
              "<polyline clip-path=\"url(#clip422)\" style=\"stroke:#000000; stroke-linecap:round; stroke-linejoin:round; stroke-width:2; stroke-opacity:0.1; fill:none\" points=\"203.964,1141.17 2352.76,1141.17 \"/>\n",
              "<polyline clip-path=\"url(#clip422)\" style=\"stroke:#000000; stroke-linecap:round; stroke-linejoin:round; stroke-width:2; stroke-opacity:0.1; fill:none\" points=\"203.964,895.94 2352.76,895.94 \"/>\n",
              "<polyline clip-path=\"url(#clip422)\" style=\"stroke:#000000; stroke-linecap:round; stroke-linejoin:round; stroke-width:2; stroke-opacity:0.1; fill:none\" points=\"203.964,650.712 2352.76,650.712 \"/>\n",
              "<polyline clip-path=\"url(#clip422)\" style=\"stroke:#000000; stroke-linecap:round; stroke-linejoin:round; stroke-width:2; stroke-opacity:0.1; fill:none\" points=\"203.964,405.484 2352.76,405.484 \"/>\n",
              "<polyline clip-path=\"url(#clip422)\" style=\"stroke:#000000; stroke-linecap:round; stroke-linejoin:round; stroke-width:2; stroke-opacity:0.1; fill:none\" points=\"203.964,160.256 2352.76,160.256 \"/>\n",
              "<polyline clip-path=\"url(#clip420)\" style=\"stroke:#000000; stroke-linecap:round; stroke-linejoin:round; stroke-width:4; stroke-opacity:1; fill:none\" points=\"203.964,1423.18 203.964,123.472 \"/>\n",
              "<polyline clip-path=\"url(#clip420)\" style=\"stroke:#000000; stroke-linecap:round; stroke-linejoin:round; stroke-width:4; stroke-opacity:1; fill:none\" points=\"203.964,1386.4 222.861,1386.4 \"/>\n",
              "<polyline clip-path=\"url(#clip420)\" style=\"stroke:#000000; stroke-linecap:round; stroke-linejoin:round; stroke-width:4; stroke-opacity:1; fill:none\" points=\"203.964,1141.17 222.861,1141.17 \"/>\n",
              "<polyline clip-path=\"url(#clip420)\" style=\"stroke:#000000; stroke-linecap:round; stroke-linejoin:round; stroke-width:4; stroke-opacity:1; fill:none\" points=\"203.964,895.94 222.861,895.94 \"/>\n",
              "<polyline clip-path=\"url(#clip420)\" style=\"stroke:#000000; stroke-linecap:round; stroke-linejoin:round; stroke-width:4; stroke-opacity:1; fill:none\" points=\"203.964,650.712 222.861,650.712 \"/>\n",
              "<polyline clip-path=\"url(#clip420)\" style=\"stroke:#000000; stroke-linecap:round; stroke-linejoin:round; stroke-width:4; stroke-opacity:1; fill:none\" points=\"203.964,405.484 222.861,405.484 \"/>\n",
              "<polyline clip-path=\"url(#clip420)\" style=\"stroke:#000000; stroke-linecap:round; stroke-linejoin:round; stroke-width:4; stroke-opacity:1; fill:none\" points=\"203.964,160.256 222.861,160.256 \"/>\n",
              "<path clip-path=\"url(#clip420)\" d=\"M156.019 1372.19 Q152.408 1372.19 150.579 1375.76 Q148.774 1379.3 148.774 1386.43 Q148.774 1393.54 150.579 1397.1 Q152.408 1400.64 156.019 1400.64 Q159.653 1400.64 161.459 1397.1 Q163.288 1393.54 163.288 1386.43 Q163.288 1379.3 161.459 1375.76 Q159.653 1372.19 156.019 1372.19 M156.019 1368.49 Q161.829 1368.49 164.885 1373.1 Q167.964 1377.68 167.964 1386.43 Q167.964 1395.16 164.885 1399.76 Q161.829 1404.35 156.019 1404.35 Q150.209 1404.35 147.13 1399.76 Q144.075 1395.16 144.075 1386.43 Q144.075 1377.68 147.13 1373.1 Q150.209 1368.49 156.019 1368.49 Z\" fill=\"#000000\" fill-rule=\"nonzero\" fill-opacity=\"1\" /><path clip-path=\"url(#clip420)\" d=\"M147.061 1123.89 L165.417 1123.89 L165.417 1127.82 L151.343 1127.82 L151.343 1136.3 Q152.362 1135.95 153.38 1135.79 Q154.399 1135.6 155.417 1135.6 Q161.204 1135.6 164.584 1138.77 Q167.964 1141.94 167.964 1147.36 Q167.964 1152.94 164.491 1156.04 Q161.019 1159.12 154.7 1159.12 Q152.524 1159.12 150.255 1158.75 Q148.01 1158.38 145.603 1157.64 L145.603 1152.94 Q147.686 1154.07 149.908 1154.63 Q152.13 1155.18 154.607 1155.18 Q158.612 1155.18 160.95 1153.08 Q163.288 1150.97 163.288 1147.36 Q163.288 1143.75 160.95 1141.64 Q158.612 1139.54 154.607 1139.54 Q152.732 1139.54 150.857 1139.95 Q149.005 1140.37 147.061 1141.25 L147.061 1123.89 Z\" fill=\"#000000\" fill-rule=\"nonzero\" fill-opacity=\"1\" /><path clip-path=\"url(#clip420)\" d=\"M116.668 909.285 L124.306 909.285 L124.306 882.919 L115.996 884.586 L115.996 880.327 L124.26 878.66 L128.936 878.66 L128.936 909.285 L136.575 909.285 L136.575 913.22 L116.668 913.22 L116.668 909.285 Z\" fill=\"#000000\" fill-rule=\"nonzero\" fill-opacity=\"1\" /><path clip-path=\"url(#clip420)\" d=\"M156.019 881.739 Q152.408 881.739 150.579 885.303 Q148.774 888.845 148.774 895.975 Q148.774 903.081 150.579 906.646 Q152.408 910.188 156.019 910.188 Q159.653 910.188 161.459 906.646 Q163.288 903.081 163.288 895.975 Q163.288 888.845 161.459 885.303 Q159.653 881.739 156.019 881.739 M156.019 878.035 Q161.829 878.035 164.885 882.641 Q167.964 887.225 167.964 895.975 Q167.964 904.701 164.885 909.308 Q161.829 913.891 156.019 913.891 Q150.209 913.891 147.13 909.308 Q144.075 904.701 144.075 895.975 Q144.075 887.225 147.13 882.641 Q150.209 878.035 156.019 878.035 Z\" fill=\"#000000\" fill-rule=\"nonzero\" fill-opacity=\"1\" /><path clip-path=\"url(#clip420)\" d=\"M117.663 664.057 L125.302 664.057 L125.302 637.691 L116.992 639.358 L116.992 635.099 L125.255 633.432 L129.931 633.432 L129.931 664.057 L137.57 664.057 L137.57 667.992 L117.663 667.992 L117.663 664.057 Z\" fill=\"#000000\" fill-rule=\"nonzero\" fill-opacity=\"1\" /><path clip-path=\"url(#clip420)\" d=\"M147.061 633.432 L165.417 633.432 L165.417 637.367 L151.343 637.367 L151.343 645.839 Q152.362 645.492 153.38 645.33 Q154.399 645.145 155.417 645.145 Q161.204 645.145 164.584 648.316 Q167.964 651.488 167.964 656.904 Q167.964 662.483 164.491 665.585 Q161.019 668.663 154.7 668.663 Q152.524 668.663 150.255 668.293 Q148.01 667.923 145.603 667.182 L145.603 662.483 Q147.686 663.617 149.908 664.173 Q152.13 664.728 154.607 664.728 Q158.612 664.728 160.95 662.622 Q163.288 660.515 163.288 656.904 Q163.288 653.293 160.95 651.187 Q158.612 649.08 154.607 649.08 Q152.732 649.08 150.857 649.497 Q149.005 649.913 147.061 650.793 L147.061 633.432 Z\" fill=\"#000000\" fill-rule=\"nonzero\" fill-opacity=\"1\" /><path clip-path=\"url(#clip420)\" d=\"M119.885 418.829 L136.204 418.829 L136.204 422.764 L114.26 422.764 L114.26 418.829 Q116.922 416.074 121.505 411.445 Q126.112 406.792 127.292 405.449 Q129.538 402.926 130.417 401.19 Q131.32 399.431 131.32 397.741 Q131.32 394.987 129.376 393.25 Q127.455 391.514 124.353 391.514 Q122.154 391.514 119.7 392.278 Q117.269 393.042 114.492 394.593 L114.492 389.871 Q117.316 388.737 119.769 388.158 Q122.223 387.579 124.26 387.579 Q129.63 387.579 132.825 390.264 Q136.019 392.95 136.019 397.44 Q136.019 399.57 135.209 401.491 Q134.422 403.389 132.316 405.982 Q131.737 406.653 128.635 409.871 Q125.533 413.065 119.885 418.829 Z\" fill=\"#000000\" fill-rule=\"nonzero\" fill-opacity=\"1\" /><path clip-path=\"url(#clip420)\" d=\"M156.019 391.283 Q152.408 391.283 150.579 394.848 Q148.774 398.389 148.774 405.519 Q148.774 412.625 150.579 416.19 Q152.408 419.732 156.019 419.732 Q159.653 419.732 161.459 416.19 Q163.288 412.625 163.288 405.519 Q163.288 398.389 161.459 394.848 Q159.653 391.283 156.019 391.283 M156.019 387.579 Q161.829 387.579 164.885 392.186 Q167.964 396.769 167.964 405.519 Q167.964 414.246 164.885 418.852 Q161.829 423.435 156.019 423.435 Q150.209 423.435 147.13 418.852 Q144.075 414.246 144.075 405.519 Q144.075 396.769 147.13 392.186 Q150.209 387.579 156.019 387.579 Z\" fill=\"#000000\" fill-rule=\"nonzero\" fill-opacity=\"1\" /><path clip-path=\"url(#clip420)\" d=\"M120.88 173.601 L137.2 173.601 L137.2 177.536 L115.256 177.536 L115.256 173.601 Q117.918 170.847 122.501 166.217 Q127.107 161.564 128.288 160.222 Q130.533 157.698 131.413 155.962 Q132.316 154.203 132.316 152.513 Q132.316 149.759 130.371 148.023 Q128.45 146.286 125.348 146.286 Q123.149 146.286 120.695 147.05 Q118.265 147.814 115.487 149.365 L115.487 144.643 Q118.311 143.509 120.765 142.93 Q123.218 142.351 125.255 142.351 Q130.626 142.351 133.82 145.036 Q137.015 147.722 137.015 152.212 Q137.015 154.342 136.204 156.263 Q135.417 158.161 133.311 160.754 Q132.732 161.425 129.63 164.643 Q126.529 167.837 120.88 173.601 Z\" fill=\"#000000\" fill-rule=\"nonzero\" fill-opacity=\"1\" /><path clip-path=\"url(#clip420)\" d=\"M147.061 142.976 L165.417 142.976 L165.417 146.911 L151.343 146.911 L151.343 155.384 Q152.362 155.036 153.38 154.874 Q154.399 154.689 155.417 154.689 Q161.204 154.689 164.584 157.86 Q167.964 161.032 167.964 166.448 Q167.964 172.027 164.491 175.129 Q161.019 178.208 154.7 178.208 Q152.524 178.208 150.255 177.837 Q148.01 177.467 145.603 176.726 L145.603 172.027 Q147.686 173.161 149.908 173.717 Q152.13 174.272 154.607 174.272 Q158.612 174.272 160.95 172.166 Q163.288 170.059 163.288 166.448 Q163.288 162.837 160.95 160.731 Q158.612 158.624 154.607 158.624 Q152.732 158.624 150.857 159.041 Q149.005 159.458 147.061 160.337 L147.061 142.976 Z\" fill=\"#000000\" fill-rule=\"nonzero\" fill-opacity=\"1\" /><path clip-path=\"url(#clip420)\" d=\"M28.3562 802.56 L45.7028 815.451 L64.0042 801.892 L64.0042 808.799 L49.9996 819.175 L64.0042 829.551 L64.0042 836.458 L45.3526 822.612 L28.3562 835.28 L28.3562 828.373 L41.0558 818.92 L28.3562 809.467 L28.3562 802.56 Z\" fill=\"#000000\" fill-rule=\"nonzero\" fill-opacity=\"1\" /><path clip-path=\"url(#clip420)\" d=\"M16.4842 769.332 L34.2127 752.049 L34.2127 758.446 L21.6404 772.451 L34.2127 786.455 L34.2127 792.853 L16.4842 775.57 L16.4842 769.332 Z\" fill=\"#000000\" fill-rule=\"nonzero\" fill-opacity=\"1\" /><path clip-path=\"url(#clip420)\" d=\"M58.5933 732.633 L58.5933 710.194 L64.0042 710.194 L64.0042 740.368 L58.5933 740.368 Q54.8057 736.707 48.44 730.405 Q42.0425 724.071 40.1964 722.448 Q36.7271 719.361 34.34 718.151 Q31.921 716.91 29.5975 716.91 Q25.8099 716.91 23.4228 719.584 Q21.0356 722.225 21.0356 726.49 Q21.0356 729.514 22.086 732.888 Q23.1363 736.23 25.2688 740.049 L18.7758 740.049 Q17.2162 736.166 16.4205 732.792 Q15.6248 729.419 15.6248 726.618 Q15.6248 719.233 19.3169 714.841 Q23.009 710.449 29.1837 710.449 Q32.112 710.449 34.7537 711.563 Q37.3637 712.645 40.9285 715.541 Q41.8515 716.337 46.2757 720.602 Q50.668 724.867 58.5933 732.633 Z\" fill=\"#000000\" fill-rule=\"nonzero\" fill-opacity=\"1\" /><path clip-path=\"url(#clip420)\" d=\"M1064.53 18.8205 L1064.53 41.5461 L1074.82 41.5461 Q1080.53 41.5461 1083.65 38.5889 Q1086.77 35.6318 1086.77 30.163 Q1086.77 24.7348 1083.65 21.7777 Q1080.53 18.8205 1074.82 18.8205 L1064.53 18.8205 M1056.35 12.096 L1074.82 12.096 Q1084.99 12.096 1090.17 16.714 Q1095.4 21.2916 1095.4 30.163 Q1095.4 39.1155 1090.17 43.6931 Q1084.99 48.2706 1074.82 48.2706 L1064.53 48.2706 L1064.53 72.576 L1056.35 72.576 L1056.35 12.096 Z\" fill=\"#000000\" fill-rule=\"nonzero\" fill-opacity=\"1\" /><path clip-path=\"url(#clip420)\" d=\"M1106.05 9.54393 L1113.51 9.54393 L1113.51 72.576 L1106.05 72.576 L1106.05 9.54393 Z\" fill=\"#000000\" fill-rule=\"nonzero\" fill-opacity=\"1\" /><path clip-path=\"url(#clip420)\" d=\"M1146.69 32.4315 Q1140.69 32.4315 1137.21 37.1306 Q1133.72 41.7891 1133.72 49.9314 Q1133.72 58.0738 1137.17 62.7728 Q1140.65 67.4314 1146.69 67.4314 Q1152.64 67.4314 1156.12 62.7323 Q1159.61 58.0333 1159.61 49.9314 Q1159.61 41.8701 1156.12 37.1711 Q1152.64 32.4315 1146.69 32.4315 M1146.69 26.1121 Q1156.41 26.1121 1161.96 32.4315 Q1167.51 38.7509 1167.51 49.9314 Q1167.51 61.0714 1161.96 67.4314 Q1156.41 73.7508 1146.69 73.7508 Q1136.92 73.7508 1131.37 67.4314 Q1125.86 61.0714 1125.86 49.9314 Q1125.86 38.7509 1131.37 32.4315 Q1136.92 26.1121 1146.69 26.1121 Z\" fill=\"#000000\" fill-rule=\"nonzero\" fill-opacity=\"1\" /><path clip-path=\"url(#clip420)\" d=\"M1187.23 14.324 L1187.23 27.2059 L1202.59 27.2059 L1202.59 32.9987 L1187.23 32.9987 L1187.23 57.6282 Q1187.23 63.1779 1188.73 64.7578 Q1190.27 66.3376 1194.93 66.3376 L1202.59 66.3376 L1202.59 72.576 L1194.93 72.576 Q1186.3 72.576 1183.02 69.3758 Q1179.74 66.1351 1179.74 57.6282 L1179.74 32.9987 L1174.27 32.9987 L1174.27 27.2059 L1179.74 27.2059 L1179.74 14.324 L1187.23 14.324 Z\" fill=\"#000000\" fill-rule=\"nonzero\" fill-opacity=\"1\" /><path clip-path=\"url(#clip420)\" d=\"M1256.34 32.4315 Q1250.35 32.4315 1246.86 37.1306 Q1243.38 41.7891 1243.38 49.9314 Q1243.38 58.0738 1246.82 62.7728 Q1250.31 67.4314 1256.34 67.4314 Q1262.3 67.4314 1265.78 62.7323 Q1269.27 58.0333 1269.27 49.9314 Q1269.27 41.8701 1265.78 37.1711 Q1262.3 32.4315 1256.34 32.4315 M1256.34 26.1121 Q1266.07 26.1121 1271.61 32.4315 Q1277.16 38.7509 1277.16 49.9314 Q1277.16 61.0714 1271.61 67.4314 Q1266.07 73.7508 1256.34 73.7508 Q1246.58 73.7508 1241.03 67.4314 Q1235.52 61.0714 1235.52 49.9314 Q1235.52 38.7509 1241.03 32.4315 Q1246.58 26.1121 1256.34 26.1121 Z\" fill=\"#000000\" fill-rule=\"nonzero\" fill-opacity=\"1\" /><path clip-path=\"url(#clip420)\" d=\"M1312.49 9.54393 L1312.49 15.7418 L1305.36 15.7418 Q1301.35 15.7418 1299.77 17.3622 Q1298.23 18.9825 1298.23 23.1955 L1298.23 27.2059 L1310.5 27.2059 L1310.5 32.9987 L1298.23 32.9987 L1298.23 72.576 L1290.74 72.576 L1290.74 32.9987 L1283.61 32.9987 L1283.61 27.2059 L1290.74 27.2059 L1290.74 24.0462 Q1290.74 16.471 1294.26 13.0277 Q1297.78 9.54393 1305.44 9.54393 L1312.49 9.54393 Z\" fill=\"#000000\" fill-rule=\"nonzero\" fill-opacity=\"1\" /><path clip-path=\"url(#clip420)\" d=\"M1382.81 27.2059 L1366.41 49.2833 L1383.66 72.576 L1374.87 72.576 L1361.67 54.752 L1348.46 72.576 L1339.67 72.576 L1357.29 48.8377 L1341.17 27.2059 L1349.96 27.2059 L1361.99 43.369 L1374.02 27.2059 L1382.81 27.2059 Z\" fill=\"#000000\" fill-rule=\"nonzero\" fill-opacity=\"1\" /><path clip-path=\"url(#clip420)\" d=\"M1425.1 12.096 L1447.1 34.6595 L1438.96 34.6595 L1421.13 18.6585 L1403.31 34.6595 L1395.17 34.6595 L1417.16 12.096 L1425.1 12.096 Z\" fill=\"#000000\" fill-rule=\"nonzero\" fill-opacity=\"1\" /><path clip-path=\"url(#clip420)\" d=\"M1471.81 65.6895 L1500.37 65.6895 L1500.37 72.576 L1461.97 72.576 L1461.97 65.6895 Q1466.63 60.8689 1474.65 52.7671 Q1482.71 44.6248 1484.77 42.2752 Q1488.7 37.8598 1490.24 34.8216 Q1491.82 31.7429 1491.82 28.7857 Q1491.82 23.9651 1488.42 20.927 Q1485.06 17.8888 1479.63 17.8888 Q1475.78 17.8888 1471.49 19.2256 Q1467.23 20.5624 1462.37 23.2765 L1462.37 15.0127 Q1467.31 13.0277 1471.61 12.015 Q1475.9 11.0023 1479.47 11.0023 Q1488.86 11.0023 1494.46 15.7013 Q1500.05 20.4004 1500.05 28.2591 Q1500.05 31.9859 1498.63 35.3482 Q1497.25 38.6699 1493.56 43.2069 Q1492.55 44.3817 1487.12 50.0125 Q1481.69 55.6027 1471.81 65.6895 Z\" fill=\"#000000\" fill-rule=\"nonzero\" fill-opacity=\"1\" /><polyline clip-path=\"url(#clip422)\" style=\"stroke:#009af9; stroke-linecap:round; stroke-linejoin:round; stroke-width:4; stroke-opacity:1; fill:none\" points=\"264.778,160.256 467.495,601.666 670.211,944.985 872.927,1190.21 1075.64,1337.35 1278.36,1386.4 1481.08,1337.35 1683.79,1190.21 1886.51,944.985 2089.22,601.666 2291.94,160.256 \"/>\n",
              "<path clip-path=\"url(#clip420)\" d=\"M2013.82 1379.86 L2281.13 1379.86 L2281.13 1276.18 L2013.82 1276.18  Z\" fill=\"#ffffff\" fill-rule=\"evenodd\" fill-opacity=\"1\"/>\n",
              "<polyline clip-path=\"url(#clip420)\" style=\"stroke:#000000; stroke-linecap:round; stroke-linejoin:round; stroke-width:4; stroke-opacity:1; fill:none\" points=\"2013.82,1379.86 2281.13,1379.86 2281.13,1276.18 2013.82,1276.18 2013.82,1379.86 \"/>\n",
              "<polyline clip-path=\"url(#clip420)\" style=\"stroke:#009af9; stroke-linecap:round; stroke-linejoin:round; stroke-width:4; stroke-opacity:1; fill:none\" points=\"2037.7,1328.02 2180.95,1328.02 \"/>\n",
              "<path clip-path=\"url(#clip420)\" d=\"M2218.67 1347.7 Q2216.86 1352.33 2215.15 1353.75 Q2213.43 1355.16 2210.56 1355.16 L2207.16 1355.16 L2207.16 1351.59 L2209.66 1351.59 Q2211.42 1351.59 2212.39 1350.76 Q2213.37 1349.93 2214.55 1346.82 L2215.31 1344.88 L2204.82 1319.37 L2209.34 1319.37 L2217.44 1339.65 L2225.54 1319.37 L2230.06 1319.37 L2218.67 1347.7 Z\" fill=\"#000000\" fill-rule=\"nonzero\" fill-opacity=\"1\" /><path clip-path=\"url(#clip420)\" d=\"M2237.35 1341.36 L2244.99 1341.36 L2244.99 1315 L2236.68 1316.66 L2236.68 1312.4 L2244.94 1310.74 L2249.62 1310.74 L2249.62 1341.36 L2257.25 1341.36 L2257.25 1345.3 L2237.35 1345.3 L2237.35 1341.36 Z\" fill=\"#000000\" fill-rule=\"nonzero\" fill-opacity=\"1\" /></svg>\n"
            ]
          },
          "metadata": {},
          "output_type": "display_data"
        }
      ],
      "source": [
        "using Plots\n",
        "x_values == -5,5\n",
        "function square(x::Int)\n",
        "    return x^2\n",
        "end\n",
        "y_values == x^2\n",
        "plot(x_values, y_values, xlabel=\"x\", ylabel=\"x^2\", title=\"Plot of x^2\")"
      ]
    },
    {
      "cell_type": "markdown",
      "id": "eaca6031-e691-4019-9986-e7127b3df842",
      "metadata": {},
      "source": [
        "## Commit and Push Your Changes to GitHub\n",
        "\n",
        "After completing the previous two exercises, commit your solution file\n",
        "(notebook or otherwise) and push to GitHub. Use an informative commit\n",
        "message which makes it clear what changes you’ve made. The specific\n",
        "workflow for this will vary depending on how you’re writing up your\n",
        "solutions; please search for specifics and ask for help as needed!\n",
        "\n",
        "> **Useful Commit Sizes**\n",
        ">\n",
        "> Ideally, you’d commit whenever you make a “substantial” enough change\n",
        "> that you want to lock in, such as writing the core code for a problem\n",
        "> or completing a problem, if you’re preparing code to be used elsewhere\n",
        "> (by yourself or others), or if you want to ask for help. `git` lets\n",
        "> you revert changes back to a previous commit, so it’s easy to undo\n",
        "> changes or updates which broke something that was previously working,\n",
        "> so changing too many things at once can make it hard to keep track of\n",
        "> what worked when.\n",
        ">\n",
        "> But in this case, go ahead and just commit after finishing the\n",
        "> problems.\n",
        "\n",
        "Push the repository with these commits to GitHub and take a screenshot\n",
        "of the repository page\n",
        "(`https://github.com/BEE4750-FA24/<username>/lab01`) which shows the\n",
        "updated repository. Include that screenshot in your submission as the\n",
        "solution to this problem.\n",
        "\n",
        "## Submitting PDF\n",
        "\n",
        "> **Important**\n",
        ">\n",
        "> These submission instructions will not be repeated on future\n",
        "> assignments!\n",
        "\n",
        "Export your writeup as a PDF and submit it to the “Lab 1” assignment on\n",
        "Gradescope. Make sure that you tag pages corresponding to relevant\n",
        "problems to avoid a 10% penalty.\n",
        "\n",
        "> **Printing Code to PDF**\n",
        ">\n",
        "> You are not required to submit your code when submitting assignments.\n",
        "> However, when printing a notebook to PDF, long lines will run off the\n",
        "> edge of code cells, which may result in comments or code being hidden.\n",
        "> If you see this, go back to the notebook and break up long lines into\n",
        "> shorter onces (for example, see the comment in the above code cell) to\n",
        "> ensure key parts of your results aren’t missing."
      ]
    }
  ],
  "metadata": {
    "kernel_info": {
      "name": "julia"
    },
    "kernelspec": {
      "display_name": "Julia 1.10.5",
      "language": "julia",
      "name": "julia-1.10"
    },
    "language_info": {
      "file_extension": ".jl",
      "mimetype": "application/julia",
      "name": "julia",
      "version": "1.10.5"
    }
  },
  "nbformat": 4,
  "nbformat_minor": 5
}
